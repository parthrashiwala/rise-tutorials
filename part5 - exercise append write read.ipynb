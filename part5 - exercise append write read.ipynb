{
 "cells": [
  {
   "cell_type": "code",
   "execution_count": 102,
   "id": "154a9782-e49b-4819-84f0-c8321aea0b12",
   "metadata": {},
   "outputs": [],
   "source": [
    "#while, open keywords, .split(), .readline(), .seek(), .write(), .close() methods\n",
    "#city , country , month ave: highest high , month ave: lowest low\n",
    "#City of Beijing month ave: highest high is 30.9 Celsius"
   ]
  },
  {
   "cell_type": "code",
   "execution_count": 1,
   "id": "f0a7f3d9-0263-46b4-a069-8bb2915a3d7c",
   "metadata": {},
   "outputs": [
    {
     "name": "stderr",
     "output_type": "stream",
     "text": [
      "  % Total    % Received % Xferd  Average Speed   Time    Time     Time  Current\n",
      "                                 Dload  Upload   Total   Spent    Left  Speed\n",
      "\n",
      "  0     0    0     0    0     0      0      0 --:--:-- --:--:-- --:--:--     0\n",
      "  0     0    0     0    0     0      0      0 --:--:-- --:--:-- --:--:--     0\n",
      "100   222  100   222    0     0    222      0  0:00:01 --:--:--  0:00:01  1013\n"
     ]
    }
   ],
   "source": [
    "!curl https://raw.githubusercontent.com/MicrosoftLearning/intropython/master/world_temp_mean.csv -o mean_temp.txt"
   ]
  },
  {
   "cell_type": "code",
   "execution_count": 2,
   "id": "f342c638-39dd-4972-a82e-8f1e7b072ae4",
   "metadata": {},
   "outputs": [
    {
     "name": "stdout",
     "output_type": "stream",
     "text": [
      "City of Beijing month ave: highest high is 30.9 Celsius\n",
      "City of Cairo month ave: highest high is 34.7 Celsius\n",
      "City of London month ave: highest high is 23.5 Celsius\n",
      "City of Nairobi month ave: highest high is 26.3 Celsius\n",
      "City of New York City month ave: highest high is 28.9 Celsius\n",
      "City of Sydney month ave: highest high is 26.5 Celsius\n",
      "City of Tokyo month ave: highest high is 30.8 Celsius\n",
      "City of Rio de Janeiro month ave: highest high is 30.0 Celsius\n"
     ]
    }
   ],
   "source": [
    "mean_temp = open('mean_temp.txt','a+')\n",
    "mean_temp.write(\"Rio de Janeiro,Brazil,30.0,18.0\\n\")\n",
    "mean_temp.seek(0)\n",
    "headings = mean_temp.readline().strip('\\n').split(',')\n",
    "data = mean_temp.readline()\n",
    "while data:\n",
    "    array = data.strip('\\n').split(',')\n",
    "    print(f\"{headings[0].title()} of {array[0]} {headings[2]} is {array[2]} Celsius\")\n",
    "    data = mean_temp.readline()\n",
    "mean_temp.close()"
   ]
  },
  {
   "cell_type": "code",
   "execution_count": 109,
   "id": "aac30c80-272d-4e23-b4ef-4a987abc73bb",
   "metadata": {},
   "outputs": [
    {
     "name": "stderr",
     "output_type": "stream",
     "text": [
      "  % Total    % Received % Xferd  Average Speed   Time    Time     Time  Current\n",
      "                                 Dload  Upload   Total   Spent    Left  Speed\n",
      "\n",
      "  0     0    0     0    0     0      0      0 --:--:-- --:--:-- --:--:--     0\n",
      "100   222  100   222    0     0    222      0  0:00:01 --:--:--  0:00:01  1093\n"
     ]
    }
   ],
   "source": [
    "!curl https://raw.githubusercontent.com/MicrosoftLearning/intropython/master/world_temp_mean.csv -o mean_temp.txt"
   ]
  },
  {
   "cell_type": "code",
   "execution_count": 110,
   "id": "9f6cac4e-8b8c-4dca-912d-6793eb0af6ee",
   "metadata": {},
   "outputs": [
    {
     "name": "stdout",
     "output_type": "stream",
     "text": [
      "City of Beijing month ave: highest high is 30.9 Celsius\n",
      "City of Cairo month ave: highest high is 34.7 Celsius\n",
      "City of London month ave: highest high is 23.5 Celsius\n",
      "City of Nairobi month ave: highest high is 26.3 Celsius\n",
      "City of New York City month ave: highest high is 28.9 Celsius\n",
      "City of Sydney month ave: highest high is 26.5 Celsius\n",
      "City of Tokyo month ave: highest high is 30.8 Celsius\n",
      "City of Rio de Janeiro month ave: highest high is 30.0 Celsius\n"
     ]
    }
   ],
   "source": [
    "with open('mean_temp.txt','a+') as mean_temp:\n",
    "    mean_temp.write(\"Rio de Janeiro,Brazil,30.0,18.0\\n\")\n",
    "    mean_temp.seek(0)\n",
    "    headings = mean_temp.readline().split(',')\n",
    "    data = mean_temp.readline()\n",
    "    while data:\n",
    "        array = data.strip('\\n').split(',')\n",
    "        print(f\"{headings[0].title()} of {array[0]} {headings[2]} is {array[2]} Celsius\")\n",
    "        data = mean_temp.readline()"
   ]
  }
 ],
 "metadata": {
  "kernelspec": {
   "display_name": "Python 3",
   "language": "python",
   "name": "python3"
  },
  "language_info": {
   "codemirror_mode": {
    "name": "ipython",
    "version": 3
   },
   "file_extension": ".py",
   "mimetype": "text/x-python",
   "name": "python",
   "nbconvert_exporter": "python",
   "pygments_lexer": "ipython3",
   "version": "3.7.10"
  }
 },
 "nbformat": 4,
 "nbformat_minor": 5
}
