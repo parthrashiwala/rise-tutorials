{
 "cells": [
  {
   "cell_type": "code",
   "execution_count": null,
   "id": "72cef420-a0f3-49e2-a331-90c672942b43",
   "metadata": {},
   "outputs": [],
   "source": [
    "\"\"\"\n",
    " ``r''   Open text file for reading.  The stream is positioned at the\n",
    "         beginning of the file.\n",
    "\n",
    " ``r+''  Open for reading and writing.  The stream is positioned at the\n",
    "         beginning of the file.\n",
    "\n",
    " ``w''   Truncate file to zero length or create text file for writing.\n",
    "         The stream is positioned at the beginning of the file.\n",
    "\n",
    " ``w+''  Open for reading and writing.  The file is created if it does not\n",
    "         exist, otherwise it is truncated.  The stream is positioned at\n",
    "         the beginning of the file.\n",
    "\n",
    " ``a''   Open for writing.  The file is created if it does not exist.  The\n",
    "         stream is positioned at the end of the file.  Subsequent writes\n",
    "         to the file will always end up at the then current end of file,\n",
    "         irrespective of any intervening fseek(3) or similar.\n",
    "\n",
    " ``a+''  Open for reading and writing.  The file is created if it does not\n",
    "         exist.  The stream is positioned at the end of the file.  Subse-\n",
    "         quent writes to the file will always end up at the then current\n",
    "         end of file, irrespective of any intervening fseek(3) or similar.\n",
    "\"\"\""
   ]
  },
  {
   "cell_type": "code",
   "execution_count": 107,
   "id": "807af1bf-9956-4a4f-a8d7-e565bddf419a",
   "metadata": {},
   "outputs": [
    {
     "name": "stderr",
     "output_type": "stream",
     "text": [
      "  % Total    % Received % Xferd  Average Speed   Time    Time     Time  Current\n",
      "                                 Dload  Upload   Total   Spent    Left  Speed\n",
      "\n",
      "  0     0    0     0    0     0      0      0 --:--:-- --:--:-- --:--:--     0\n",
      "100    56  100    56    0     0     56      0  0:00:01 --:--:--  0:00:01   299\n",
      "  % Total    % Received % Xferd  Average Speed   Time    Time     Time  Current\n",
      "                                 Dload  Upload   Total   Spent    Left  Speed\n",
      "\n",
      "  0     0    0     0    0     0      0      0 --:--:-- --:--:-- --:--:--     0\n",
      "100    56  100    56    0     0     56      0  0:00:01 --:--:--  0:00:01   255\n"
     ]
    }
   ],
   "source": [
    "#download text files\n",
    "!curl https://raw.githubusercontent.com/MicrosoftLearning/intropython/master/poem1.txt -o poem1.txt\n",
    "!curl https://raw.githubusercontent.com/MicrosoftLearning/intropython/master/poem1.txt -o poem3.txt"
   ]
  },
  {
   "cell_type": "code",
   "execution_count": 29,
   "id": "b57493c9-fbed-4dfe-9f52-44246ff7781b",
   "metadata": {},
   "outputs": [],
   "source": [
    "#open text file\n",
    "poem_file = open('poem1.txt', 'r') "
   ]
  },
  {
   "cell_type": "code",
   "execution_count": 30,
   "id": "f92a2f88-2351-46de-9a61-9fb101ca20ac",
   "metadata": {},
   "outputs": [
    {
     "data": {
      "text/plain": [
       "'Loops'"
      ]
     },
     "execution_count": 30,
     "metadata": {},
     "output_type": "execute_result"
    }
   ],
   "source": [
    "#read 5 chars from text file\n",
    "poem_file.read(5)"
   ]
  },
  {
   "cell_type": "code",
   "execution_count": 31,
   "id": "b6ed1709-5257-4298-bb63-55e1a5d0255b",
   "metadata": {},
   "outputs": [
    {
     "data": {
      "text/plain": [
       "' I re'"
      ]
     },
     "execution_count": 31,
     "metadata": {},
     "output_type": "execute_result"
    }
   ],
   "source": [
    "#read next 5 chars from text file\n",
    "poem_file.read(5)"
   ]
  },
  {
   "cell_type": "code",
   "execution_count": 32,
   "id": "920db512-0394-412f-b364-431c004d8bed",
   "metadata": {},
   "outputs": [],
   "source": [
    "#close the file\n",
    "poem_file.close()"
   ]
  },
  {
   "cell_type": "code",
   "execution_count": 72,
   "id": "9d2000b8-25e2-4853-ae75-4943cb6b5e98",
   "metadata": {},
   "outputs": [
    {
     "name": "stdout",
     "output_type": "stream",
     "text": [
      "Loops I repeat\n",
      "\n",
      "loops\n",
      "\n",
      "loops\n",
      "\n",
      "loops\n",
      "\n",
      "I repeat\n",
      "\n",
      "until I\n",
      "\n",
      "break\n",
      "\n"
     ]
    }
   ],
   "source": [
    "poem_file = open('poem1.txt','r')\n",
    "\n",
    "print(poem_file.readline())\n",
    "print(poem_file.readline())\n",
    "print(poem_file.readline())\n",
    "print(poem_file.readline())\n",
    "print(poem_file.readline())\n",
    "print(poem_file.readline())\n",
    "print(poem_file.readline())\n",
    "poem_file.close()"
   ]
  },
  {
   "cell_type": "code",
   "execution_count": 29,
   "id": "f6435d0a-fc93-4b40-be3a-df90ea5f404c",
   "metadata": {},
   "outputs": [
    {
     "name": "stdout",
     "output_type": "stream",
     "text": [
      "LOOPS I REPEAT\n",
      "LOOPS\n",
      "LOOPS\n",
      "LOOPS\n",
      "I REPEAT\n",
      "UNTIL I\n",
      "BREAK\n"
     ]
    }
   ],
   "source": [
    "poem_file = open('poem1.txt','r')\n",
    "current_line = poem_file.readline() #prints one line at a time\n",
    "\n",
    "while current_line:\n",
    "    print(current_line.upper().strip('\\n'))\n",
    "    current_line = poem_file.readline()\n",
    "\n",
    "poem_file.close()"
   ]
  },
  {
   "cell_type": "code",
   "execution_count": 8,
   "id": "4f49a39b-f720-47fc-817e-0a28a5afbb34",
   "metadata": {},
   "outputs": [],
   "source": [
    "#if you open this way, dont need to close the file out of memory\n",
    "with open('poem1.txt', 'r') as poem_file:\n",
    "    one_string = poem_file.read()\n",
    "    \n",
    "with open('poem1.txt', 'r') as poem_file:    \n",
    "    str_arr = poem_file.readlines()"
   ]
  },
  {
   "cell_type": "code",
   "execution_count": 9,
   "id": "5def0394-5bb7-44de-b208-dce60adbfd69",
   "metadata": {},
   "outputs": [
    {
     "data": {
      "text/plain": [
       "'Loops I repeat\\nloops\\nloops\\nloops\\nI repeat\\nuntil I\\nbreak\\n'"
      ]
     },
     "execution_count": 9,
     "metadata": {},
     "output_type": "execute_result"
    }
   ],
   "source": [
    "one_string"
   ]
  },
  {
   "cell_type": "code",
   "execution_count": 84,
   "id": "303b5a4e-f214-4dc6-af0a-57086bb979ea",
   "metadata": {},
   "outputs": [
    {
     "data": {
      "text/plain": [
       "['Loops I repeat\\n',\n",
       " 'loops\\n',\n",
       " 'loops\\n',\n",
       " 'loops\\n',\n",
       " 'I repeat\\n',\n",
       " 'until I\\n',\n",
       " 'break\\n']"
      ]
     },
     "execution_count": 84,
     "metadata": {},
     "output_type": "execute_result"
    }
   ],
   "source": [
    "str_arr"
   ]
  },
  {
   "cell_type": "code",
   "execution_count": 9,
   "id": "224bc990-0b05-48ac-9040-d9bdc8651956",
   "metadata": {},
   "outputs": [
    {
     "name": "stdout",
     "output_type": "stream",
     "text": [
      "['Loops I repeat', 'loops', 'loops', 'loops', 'I repeat', 'until I', 'break']\n"
     ]
    }
   ],
   "source": [
    "with open('poem1.txt', 'r') as poem_file:\n",
    "    str_arr = poem_file.readlines()      \n",
    "    str_arr = [line.strip('\\n') for line in str_arr]  # list comprehension, a for loop within an array, creates a list with a for loop, this is the same as the code in the next cell\n",
    "\n",
    "print(str_arr)"
   ]
  },
  {
   "cell_type": "code",
   "execution_count": 26,
   "id": "cb7f16e3-e28b-4364-965c-fbe5218291fb",
   "metadata": {},
   "outputs": [
    {
     "name": "stdout",
     "output_type": "stream",
     "text": [
      "['Loops I repeat', 'loops', 'loops', 'loops', 'I repeat', 'until I', 'break']\n"
     ]
    }
   ],
   "source": [
    "with open('poem1.txt', 'r') as poem_file:    #with this statement you dont have to close the file after you're done\n",
    "    str_arr = poem_file.readlines()\n",
    "    \n",
    "for idx,line in enumerate(str_arr): #wrap the array loop with enumerate, adds an index variable to each loop\n",
    "    str_arr[idx] = line.strip('\\n') #write over the str_arr\n",
    "    \n",
    "print(str_arr)"
   ]
  },
  {
   "cell_type": "code",
   "execution_count": 22,
   "id": "bbfd043e-6c61-4d32-9b68-a12e6f4c64ef",
   "metadata": {},
   "outputs": [
    {
     "name": "stdout",
     "output_type": "stream",
     "text": [
      "['Loops I repeat', 'loops', 'loops', 'loops', 'I repeat', 'until I', 'break']\n"
     ]
    }
   ],
   "source": [
    "with open('poem1.txt', 'r') as poem_file:    \n",
    "    str_arr = poem_file.readlines()\n",
    "\n",
    "idx = 0\n",
    "for line in str_arr:\n",
    "    str_arr[idx] = line[:-1] #write over the str_arr\n",
    "    idx+=1\n",
    "    \n",
    "print(str_arr)"
   ]
  },
  {
   "cell_type": "code",
   "execution_count": 23,
   "id": "6caea8fb-afb9-495c-aa7f-a5b0566c33fe",
   "metadata": {},
   "outputs": [
    {
     "name": "stdout",
     "output_type": "stream",
     "text": [
      "['Loops I repeat', 'loops', 'loops', 'loops', 'I repeat', 'until I', 'break']\n"
     ]
    }
   ],
   "source": [
    "with open('poem1.txt', 'r') as poem_file:    \n",
    "    str_arr = poem_file.readlines()\n",
    "\n",
    "idx = 0\n",
    "for line in str_arr:\n",
    "    str_arr[idx] = \" \".join(line.split()) #write over the str_arr\n",
    "    idx+=1\n",
    "    \n",
    "print(str_arr)"
   ]
  },
  {
   "cell_type": "code",
   "execution_count": 28,
   "id": "38defcb8-f12a-456d-9c6f-696106d03baf",
   "metadata": {},
   "outputs": [
    {
     "name": "stdout",
     "output_type": "stream",
     "text": [
      "['Loops I repeat', 'loops', 'loops', 'loops', 'I repeat', 'until I', 'break']\n"
     ]
    }
   ],
   "source": [
    "with open('poem1.txt', 'r') as poem_file:    \n",
    "    str_arr = poem_file.readlines()\n",
    "\n",
    "idx = 0\n",
    "for line in str_arr:\n",
    "    str_arr[idx] = line.strip('\\n') #write over the str_arr\n",
    "    idx+=1\n",
    "    \n",
    "print(str_arr)"
   ]
  },
  {
   "cell_type": "code",
   "execution_count": 41,
   "id": "6c9d4222-cce1-46cc-9233-28032076b6e3",
   "metadata": {},
   "outputs": [],
   "source": [
    "poem_file = open('poem2.txt', 'w') #change to opem1.txt to overwrite the original poem file\n",
    "poem_file.write(\"im creating a new file\")\n",
    "poem_file.close()"
   ]
  },
  {
   "cell_type": "code",
   "execution_count": 42,
   "id": "fd8d994f-b193-4f28-ab49-bff7c22c2eb3",
   "metadata": {},
   "outputs": [],
   "source": [
    "poem_file = open('poem2.txt', 'a') # this line appends instead of overwriting\n",
    "poem_file.write(\"\\n\")\n",
    "poem_file.write(\"im appending to the new file\")\n",
    "poem_file.close()"
   ]
  },
  {
   "cell_type": "code",
   "execution_count": 110,
   "id": "58f012e3-1903-4889-9c3e-2d7486c22b83",
   "metadata": {},
   "outputs": [
    {
     "name": "stdout",
     "output_type": "stream",
     "text": [
      "i am overwritingoops\n",
      "loops\n",
      "loops\n",
      "I repeat\n",
      "until I\n",
      "break\n",
      "i am appending\n",
      "i am appending\n",
      "i am appending\n",
      "\n"
     ]
    }
   ],
   "source": [
    "poem_file = open('poem3.txt', 'r+') \n",
    "poem_file.read()\n",
    "poem_file.write('i am appending') # cursor is at the end\n",
    "poem_file.write('\\n')\n",
    "poem_file.seek(0) #move cursor to the start\n",
    "poem_file.write('i am overwriting')#ovwewrite at the beginning\n",
    "poem_file.seek(0)\n",
    "print(poem_file.read())\n",
    "poem_file.close()"
   ]
  },
  {
   "cell_type": "code",
   "execution_count": 105,
   "id": "67bfb75e-dc0e-4fa8-a14d-350ab9be990e",
   "metadata": {},
   "outputs": [
    {
     "name": "stdout",
     "output_type": "stream",
     "text": [
      "i am writing to a new file\n"
     ]
    }
   ],
   "source": [
    "with open('poem4.txt', 'w+') as poem_file: #moves cursor at the end to write\n",
    "    poem_file.write('i am writing to a new file') # cursor is at the end\n",
    "    poem_file.seek(0) #move cursor to the start\n",
    "    data = poem_file.read()\n",
    "    print(data)"
   ]
  },
  {
   "cell_type": "code",
   "execution_count": 16,
   "id": "02223bef-b9cc-42cc-8f9d-e49889c5aed2",
   "metadata": {},
   "outputs": [
    {
     "name": "stdout",
     "output_type": "stream",
     "text": [
      "Loops I repeat\n",
      "loops\n",
      "loops\n",
      "loops\n",
      "I repeat\n",
      "until I\n",
      "break\n",
      "\n"
     ]
    }
   ],
   "source": [
    "poem_file = open('poem1.txt','a+')  #sends the cursor to the end, creates file if doesnt exist\n",
    "poem_file.seek(0)\n",
    "data = poem_file.read()\n",
    "print(data)\n",
    "poem_file.close()"
   ]
  },
  {
   "cell_type": "code",
   "execution_count": 17,
   "id": "3c76c57c-b0de-4b91-aa79-9d82906aa23e",
   "metadata": {},
   "outputs": [
    {
     "name": "stdout",
     "output_type": "stream",
     "text": [
      "Loops I repeat\n",
      "loops\n",
      "loops\n",
      "loops\n",
      "I repeat\n",
      "until I\n",
      "break\n",
      "\n"
     ]
    }
   ],
   "source": [
    "with open('poem1.txt','a+') as poem_file:  #sends the cursor to the end, creates file if doesnt exist\n",
    "    poem_file.seek(0)\n",
    "    data = poem_file.read()\n",
    "    print(data)"
   ]
  },
  {
   "cell_type": "code",
   "execution_count": 18,
   "id": "5dcb3c77-eb5f-44bf-b852-0bf92f3a6b07",
   "metadata": {},
   "outputs": [
    {
     "name": "stdout",
     "output_type": "stream",
     "text": [
      "Loops I repeat\n",
      "\n"
     ]
    }
   ],
   "source": [
    "with open('poem1.txt','a+') as poem_file:\n",
    "    poem_file.seek(0)\n",
    "    data = poem_file.readline()\n",
    "    print(data)"
   ]
  },
  {
   "cell_type": "code",
   "execution_count": 5,
   "id": "7acf98b5-6dab-45bc-9fca-f8f911787721",
   "metadata": {},
   "outputs": [
    {
     "name": "stdout",
     "output_type": "stream",
     "text": [
      "['Loops I repeat', 'loops', 'loops', 'loops', 'I repeat', 'until I', 'break']\n"
     ]
    }
   ],
   "source": [
    "with open('poem1.txt','a+') as poem_file: #sends the cursor to the end, creates file if doesnt exist\n",
    "    poem_file.seek(0)\n",
    "    data = poem_file.readlines()\n",
    "    data = [line.strip('\\n') for line in data]\n",
    "    print(data)"
   ]
  },
  {
   "cell_type": "code",
   "execution_count": 22,
   "id": "1dca5b18-b9fa-48f6-a5b7-54e7d3e7af4b",
   "metadata": {},
   "outputs": [
    {
     "name": "stdout",
     "output_type": "stream",
     "text": [
      "7 lines\n",
      "0 Loops I repeat\n",
      "1 loops\n",
      "2 loops\n",
      "3 loops\n",
      "4 I repeat\n",
      "5 until I\n",
      "6 break\n"
     ]
    }
   ],
   "source": [
    "with open('poem1.txt', 'r') as poem_file:    \n",
    "    str_arr = poem_file.readlines()\n",
    "    \n",
    "print(len(str_arr),'lines')\n",
    "str_arr_generator = enumerate(str_arr) #create a generator\n",
    "\n",
    "idx,string = next(str_arr_generator) #call next line into memory\n",
    "print(idx,string.strip('\\n'))\n",
    "\n",
    "idx,string = next(str_arr_generator)\n",
    "print(idx,string.strip('\\n'))\n",
    "\n",
    "idx,string = next(str_arr_generator)\n",
    "print(idx,string.strip('\\n'))\n",
    "\n",
    "idx,string = next(str_arr_generator)\n",
    "print(idx,string.strip('\\n'))\n",
    "\n",
    "idx,string = next(str_arr_generator)\n",
    "print(idx,string.strip('\\n'))\n",
    "\n",
    "idx,string = next(str_arr_generator)\n",
    "print(idx,string.strip('\\n'))\n",
    "\n",
    "idx,string = next(str_arr_generator)\n",
    "print(idx,string.strip('\\n'))"
   ]
  },
  {
   "cell_type": "code",
   "execution_count": null,
   "id": "3fe7ee51-c107-480c-9645-3e46ee7105a7",
   "metadata": {},
   "outputs": [],
   "source": []
  }
 ],
 "metadata": {
  "kernelspec": {
   "display_name": "Python 3",
   "language": "python",
   "name": "python3"
  },
  "language_info": {
   "codemirror_mode": {
    "name": "ipython",
    "version": 3
   },
   "file_extension": ".py",
   "mimetype": "text/x-python",
   "name": "python",
   "nbconvert_exporter": "python",
   "pygments_lexer": "ipython3",
   "version": "3.7.10"
  }
 },
 "nbformat": 4,
 "nbformat_minor": 5
}
