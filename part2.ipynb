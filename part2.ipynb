{
 "cells": [
  {
   "cell_type": "code",
   "execution_count": 2,
   "id": "738b292f-4f21-47b2-a04a-716aa012651d",
   "metadata": {},
   "outputs": [
    {
     "name": "stdout",
     "output_type": "stream",
     "text": [
      "wrong answer\n"
     ]
    }
   ],
   "source": [
    "## SINGLE letter fetchin \n",
    "# 0 1 2 3 4 5 6 7 8 9 10\n",
    "# K i s h a n   R a a j\n",
    "student_name = \"Kishan Raaj\"\n",
    "if student_name[7].upper() == \"A\":\n",
    "    print(\"Correct Answer\")\n",
    "else:\n",
    "    print(\"wrong answer\")"
   ]
  },
  {
   "cell_type": "code",
   "execution_count": 311,
   "id": "59d3d3ea-919e-4fe9-8651-70c7fc878ba3",
   "metadata": {},
   "outputs": [
    {
     "data": {
      "text/plain": [
       "'Raaj'"
      ]
     },
     "execution_count": 311,
     "metadata": {},
     "output_type": "execute_result"
    }
   ],
   "source": [
    "## SINGLE letter fetchin \n",
    "# 0 1 2 3 4 5 6 7 8 9 10\n",
    "# K i s h a n   R a a j\n",
    "student_name = \"Kishan Raaj\"\n",
    "student_name[7:11]"
   ]
  },
  {
   "cell_type": "code",
   "execution_count": 9,
   "id": "2ae96349-3267-4816-9e54-448f06c218f0",
   "metadata": {},
   "outputs": [
    {
     "data": {
      "text/plain": [
       "'Raaj'"
      ]
     },
     "execution_count": 9,
     "metadata": {},
     "output_type": "execute_result"
    }
   ],
   "source": [
    "student_name = \"Kishan Raaj\"\n",
    "student_name[7:27]"
   ]
  },
  {
   "cell_type": "code",
   "execution_count": 13,
   "id": "4d2fa7d6-815d-4e3a-82f8-a1c3ab410acd",
   "metadata": {},
   "outputs": [
    {
     "data": {
      "text/plain": [
       "['Kishan', 'Raaj']"
      ]
     },
     "execution_count": 13,
     "metadata": {},
     "output_type": "execute_result"
    }
   ],
   "source": [
    "student_name = \"Kishan Raaj\"\n",
    "student_name.split()"
   ]
  },
  {
   "cell_type": "code",
   "execution_count": 31,
   "id": "f98ac6a5-306d-43e5-946b-06db677e407c",
   "metadata": {},
   "outputs": [
    {
     "data": {
      "text/plain": [
       "['K', 'i', 's', 'h', 'a', 'n', ' ', 'R', 'a', 'a', 'j']"
      ]
     },
     "execution_count": 31,
     "metadata": {},
     "output_type": "execute_result"
    }
   ],
   "source": [
    "student_name = \"Kishan Raaj\"\n",
    "list(student_name)"
   ]
  },
  {
   "cell_type": "code",
   "execution_count": 19,
   "id": "16595cd6-945d-4308-a498-61e374d7b311",
   "metadata": {},
   "outputs": [
    {
     "data": {
      "text/plain": [
       "'han R'"
      ]
     },
     "execution_count": 19,
     "metadata": {},
     "output_type": "execute_result"
    }
   ],
   "source": [
    "student_name = \"Kishan Raaj\"\n",
    "student_name[-8:-3] #start:stop(excluded) stop shows first x like first 5 first 4"
   ]
  },
  {
   "cell_type": "code",
   "execution_count": 18,
   "id": "75fc5345-f769-42d3-bf5b-91396f405d0d",
   "metadata": {},
   "outputs": [
    {
     "data": {
      "text/plain": [
       "'isha'"
      ]
     },
     "execution_count": 18,
     "metadata": {},
     "output_type": "execute_result"
    }
   ],
   "source": [
    "student_name = \"Kishan Raaj\"\n",
    "student_name[1:-6]"
   ]
  },
  {
   "cell_type": "code",
   "execution_count": 312,
   "id": "065f0dbd-766a-4cff-8e09-56a92fce0467",
   "metadata": {},
   "outputs": [
    {
     "data": {
      "text/plain": [
       "' Raaj'"
      ]
     },
     "execution_count": 312,
     "metadata": {},
     "output_type": "execute_result"
    }
   ],
   "source": [
    "student_name = \"Kishan Raaj\"\n",
    "student_name[-5:]"
   ]
  },
  {
   "cell_type": "code",
   "execution_count": 320,
   "id": "9cccaddb-a830-494c-96d2-555b3a2a989f",
   "metadata": {},
   "outputs": [
    {
     "data": {
      "text/plain": [
       "'nahs'"
      ]
     },
     "execution_count": 320,
     "metadata": {},
     "output_type": "execute_result"
    }
   ],
   "source": [
    "student_name = \"Kishan Raaj\"\n",
    "student_name[5:1:-1] # if minus at third, start:stop(excluded) in reverse"
   ]
  },
  {
   "cell_type": "code",
   "execution_count": 329,
   "id": "59d472d1-0df2-4742-8426-f0cc2ef36563",
   "metadata": {},
   "outputs": [
    {
     "data": {
      "text/plain": [
       "['Kishan', 'Raaj']"
      ]
     },
     "execution_count": 329,
     "metadata": {},
     "output_type": "execute_result"
    }
   ],
   "source": [
    "student_name = \"Kishan Raaj\"\n",
    "student_name.split(\" \")"
   ]
  },
  {
   "cell_type": "code",
   "execution_count": 330,
   "id": "ddca3557-1c04-49c0-852a-4bb8c9c19717",
   "metadata": {},
   "outputs": [
    {
     "name": "stdout",
     "output_type": "stream",
     "text": [
      "KISHAN\n",
      "RAAJ\n"
     ]
    }
   ],
   "source": [
    "student_name = \"Kishan Raaj G\"\n",
    "for letter in student_name:\n",
    "    # chck every letter in the student_name if it is alpha or not \n",
    "    if letter.isalpha():\n",
    "        word+= letter\n",
    "        #word = word + letter\n",
    "    elif not letter.isalpha():\n",
    "        print(word.upper())\n",
    "        word = \"\"\n",
    "    else:\n",
    "        word = \"\""
   ]
  },
  {
   "cell_type": "code",
   "execution_count": 331,
   "id": "6789eb7b-8848-4a67-a150-2fa57ca9c3de",
   "metadata": {},
   "outputs": [
    {
     "name": "stdout",
     "output_type": "stream",
     "text": [
      "RAAJ\n"
     ]
    }
   ],
   "source": [
    "# word by word \n",
    "student_name = \"Kishan Raaj G \"\n",
    "word = \"\"\n",
    "for letter in student_name.lower():\n",
    "    # chck every letter in the student_name if it is alpha or not \n",
    "    if letter.isalpha() == True:\n",
    "        word+= letter\n",
    "        #word = word + letter\n",
    "    elif letter.isalpha() == False:\n",
    "        if word >= 'nolan':\n",
    "            print(word.upper())\n",
    "            word = \"\"\n",
    "        else:\n",
    "            word =\"\"\n",
    "    else:\n",
    "        word = \"\""
   ]
  },
  {
   "cell_type": "code",
   "execution_count": 332,
   "id": "60bf4f5c-f7b1-4c36-a398-65c1f4aca6df",
   "metadata": {},
   "outputs": [
    {
     "name": "stdout",
     "output_type": "stream",
     "text": [
      "KISHAN\n",
      "RAAJ\n",
      "G\n"
     ]
    }
   ],
   "source": [
    "student_name = \"Kishan Raaj G \"\n",
    "for word in student_name.lower().split(\" \"):\n",
    "    if word >= 'a':\n",
    "        print(word.upper())\n",
    "    else:\n",
    "        word = \"\""
   ]
  },
  {
   "cell_type": "code",
   "execution_count": 333,
   "id": "2d8883e4-18c1-4ab4-9d68-60f307bcc2b9",
   "metadata": {},
   "outputs": [
    {
     "name": "stdout",
     "output_type": "stream",
     "text": [
      "this cell splits sentences into words\n",
      "['K', 'i', 's', 'h', 'a', 'n', ' ', 'R', 'a', 'a', 'j', ' ', 'G']\n",
      "---method 1---shortest code, split a sentence by its spaces into a list of words, then print each word\n",
      "KISHAN\n",
      "RAAJ\n",
      "G\n",
      "\n",
      "---method 2---print at each loop and remove the space after each print, print as long as something is a letter\n",
      "KISHAN\n",
      "RAAJ\n",
      "G\n",
      "\n",
      "---method 3---needs space at the end to work\n",
      "KISHAN\n",
      "RAAJ\n",
      "\n",
      "---method 4---create a function that adds a space---\n",
      "Kishan\n",
      "Raaj\n",
      "G\n"
     ]
    }
   ],
   "source": [
    "print('this cell splits sentences into words')\n",
    "student_name = \"Kishan Raaj G\" #change this line, add space after the G and try with and without the space\n",
    "print(list(student_name))\n",
    "\n",
    "print('---method 1---shortest code, split a sentence by its spaces into a list of words, then print each word')\n",
    "\n",
    "for word in student_name.split(\" \"):\n",
    "    print(word.upper())\n",
    "print() #blank prints are to print spaces    \n",
    "\n",
    "print('---method 2---print at each loop and remove the space after each print, print as long as something is a letter')\n",
    "\n",
    "for letter in student_name:\n",
    "    if letter.isalpha():\n",
    "        print(letter.upper(),end=\"\")\n",
    "    else:\n",
    "        print()\n",
    "print()\n",
    "print()\n",
    "\n",
    "print('---method 3---needs space at the end to work')\n",
    "\n",
    "word = \"\"\n",
    "for letter in student_name:\n",
    "    if letter.isalpha():\n",
    "        word+=letter\n",
    "    else:\n",
    "        print(word.upper())\n",
    "        word=\"\"\n",
    "print()\n",
    "\n",
    "print('---method 4---create a function that adds a space---')\n",
    "\n",
    "def word_splitter(sentence):\n",
    "    sentence = sentence + \" \" \n",
    "    word = \"\"\n",
    "    for letter in sentence:\n",
    "        if letter != \" \": \n",
    "            word += letter\n",
    "        else:\n",
    "            print(word)\n",
    "            word = \"\"\n",
    "\n",
    "word_splitter(student_name)"
   ]
  },
  {
   "cell_type": "code",
   "execution_count": 334,
   "id": "c71bf2ca-423a-4c10-89a5-3671d496e297",
   "metadata": {},
   "outputs": [
    {
     "data": {
      "text/plain": [
       "['delhi', 'italy']"
      ]
     },
     "execution_count": 334,
     "metadata": {},
     "output_type": "execute_result"
    }
   ],
   "source": [
    "cities = [\"mumbai\", \"new york\", \"delhi\",\"italy\"]\n",
    "cities[-2:]"
   ]
  },
  {
   "cell_type": "code",
   "execution_count": 335,
   "id": "8f8e93bb-be63-4162-8723-3ab53b2a8bdf",
   "metadata": {},
   "outputs": [
    {
     "name": "stdout",
     "output_type": "stream",
     "text": [
      "Wors hit last week ['mumbai', 'new york', 'delhi', 'italy']\n"
     ]
    },
    {
     "name": "stdin",
     "output_type": "stream",
     "text": [
      "Please enter city name:  italy\n"
     ]
    },
    {
     "name": "stdout",
     "output_type": "stream",
     "text": [
      "italy removed\n",
      "Wors hit last week ['mumbai', 'new york', 'delhi']\n"
     ]
    },
    {
     "name": "stdin",
     "output_type": "stream",
     "text": [
      "Please enter city name:  sydney\n"
     ]
    },
    {
     "name": "stdout",
     "output_type": "stream",
     "text": [
      "sydney appended to the list \n",
      "Wors hit last week ['mumbai', 'new york', 'delhi', 'sydney']\n"
     ]
    },
    {
     "name": "stdin",
     "output_type": "stream",
     "text": [
      "Please enter city name:  q\n"
     ]
    }
   ],
   "source": [
    "## requirement\n",
    "# already have list of cities given \n",
    "## index.         0          1           2       3 \n",
    "worst_hit_cts3 = [\"mumbai\", \"new york\", \"delhi\",\"italy\"]\n",
    "#create function with acceptd city name as input \n",
    "def cities_list(city):\n",
    "    ## if user input is empty, popthe last city \n",
    "    if city == \"\":\n",
    "        return worst_hit_cts3.pop() +' removed from the list'\n",
    "    ##if user inputs duplicate\n",
    "    elif city in worst_hit_cts3:\n",
    "        return worst_hit_cts3.pop(worst_hit_cts3.index(city)) + ' removed'\n",
    "    else:\n",
    "        worst_hit_cts3.append(city)\n",
    "        return city + ' appended to the list '\n",
    "    \n",
    "### main program \n",
    "while worst_hit_cts3:\n",
    "    print(\"Wors hit last week\", worst_hit_cts3)\n",
    "    city = input(\"Please enter city name: \").lower()\n",
    "    if city == \"q\":\n",
    "        break\n",
    "    else:\n",
    "        ##call the aboe function \n",
    "        print(cities_list(city))"
   ]
  },
  {
   "cell_type": "markdown",
   "id": "44812d9a-28ef-4c88-8771-a5a66126d782",
   "metadata": {},
   "source": [
    "# these following codes are different ways to solve the class problem, copy the text from the cell below from the sample input to test"
   ]
  },
  {
   "cell_type": "code",
   "execution_count": 336,
   "id": "6ea2e63a-5afb-49cf-98d5-f960eda9d518",
   "metadata": {},
   "outputs": [],
   "source": [
    "# sample input\n",
    "# Little fly, Thy summer’s play My thoughtless hand Has brushed away. Am not I A fly like thee? Or art not thou A man like me?\n",
    "\n",
    "# output\n",
    "\n",
    "# or BRUSHED thy\n",
    "#  not Little thou\n",
    "#  me? SUMMER’S thee?\n",
    "#  like THOUGHTLESS play\n",
    "#  i a not\n",
    "#  hand a my\n",
    "#  fly am man"
   ]
  },
  {
   "cell_type": "code",
   "execution_count": 337,
   "id": "350d21c2-4ec8-444d-9572-cd301956a422",
   "metadata": {},
   "outputs": [
    {
     "name": "stdin",
     "output_type": "stream",
     "text": [
      "Enter a saying or poem:  Little fly, Thy summer’s play My thoughtless hand Has brushed away. Am not I A fly like thee? Or art not thou A man like me?\n"
     ]
    },
    {
     "name": "stdout",
     "output_type": "stream",
     "text": [
      "or BRUSHED thy\n",
      "not Little thou\n",
      "me? SUMMER’S thee?\n",
      "like THOUGHTLESS play\n",
      "i a not\n",
      "hand a my\n",
      "fly am man\n"
     ]
    }
   ],
   "source": [
    "idx = 0\n",
    "user_input = input(\"Enter a saying or poem: \")\n",
    "words_list = user_input.split()\n",
    "words_new_list = [] #new empty list\n",
    "\n",
    "while idx < len(words_list):\n",
    "    if len(words_list[idx]) < 4: # or <= 3\n",
    "        words_new_list.append(words_list[idx].lower())\n",
    "        idx += 1\n",
    "    elif len(words_list[idx]) > 6: # or >= 7\n",
    "        words_new_list.append(words_list[idx].upper())\n",
    "        idx += 1\n",
    "    else:\n",
    "        words_new_list.append(words_list[idx])\n",
    "        idx += 1\n",
    "        \n",
    "def word_mixer(words_new_list):\n",
    "    new_list = [] \n",
    "    words_new_list.sort()\n",
    "    if len(words_new_list) > 5:\n",
    "        while len(words_new_list) > 5:\n",
    "            new_list.append(words_new_list.pop(-5))\n",
    "            new_list.append(words_new_list.pop(0))\n",
    "            new_list.append(words_new_list.pop())\n",
    "            print(\" \".join(new_list))\n",
    "            new_list=[]\n",
    "    else:\n",
    "        joined = \" \".join(words_new_list)\n",
    "        print(joined)\n",
    "\n",
    "word_mixer(words_new_list)"
   ]
  },
  {
   "cell_type": "code",
   "execution_count": 282,
   "id": "fecf807a-8862-4988-a8e9-9fa3254efb53",
   "metadata": {},
   "outputs": [
    {
     "name": "stdin",
     "output_type": "stream",
     "text": [
      "Enter a saying or poem:  Little fly, Thy summer’s play My thoughtless hand Has brushed away. Am not I A fly like thee? Or art not thou A man like me?\n"
     ]
    },
    {
     "name": "stdout",
     "output_type": "stream",
     "text": [
      "or BRUSHED thy\n",
      "not Little thou\n",
      "me? SUMMER’S thee?\n",
      "like THOUGHTLESS play\n",
      "i a not\n",
      "hand a my\n",
      "fly am man\n"
     ]
    }
   ],
   "source": [
    "user_input = input(\"Enter a saying or poem: \")\n",
    "words_list = user_input.split()\n",
    "words_new_list = [] #creates a new empty list\n",
    " \n",
    "for idx in range(len(words_list)):\n",
    "    if len(words_list[idx]) < 4: # or <= 3\n",
    "        words_new_list.append(words_list[idx].lower())\n",
    "        index += 1\n",
    "    elif len(words_list[idx]) > 6: # or >= 7\n",
    "        words_new_list.append(words_list[idx].upper())\n",
    "        index += 1\n",
    "    else:\n",
    "        words_new_list.append(words_list[idx])\n",
    "        index += 1\n",
    "         \n",
    "def word_mixer(words_new_list):\n",
    "    new_list = [] \n",
    "    words_new_list.sort()\n",
    "    if len(words_new_list) > 5:\n",
    "        while len(words_new_list) > 5:\n",
    "            new_list.append(words_new_list.pop(-5))\n",
    "            new_list.append(words_new_list.pop(0))\n",
    "            new_list.append(words_new_list.pop())\n",
    "            print(\" \".join(new_list))\n",
    "            new_list=[]\n",
    "    else:\n",
    "        joined = \" \".join(words_new_list)\n",
    "        print(joined)\n",
    "\n",
    "word_mixer(words_new_list)"
   ]
  },
  {
   "cell_type": "code",
   "execution_count": 283,
   "id": "1f6c204c-c9a2-4675-bea3-423e694950ed",
   "metadata": {},
   "outputs": [
    {
     "name": "stdin",
     "output_type": "stream",
     "text": [
      "Enter a saying or poem:  Little fly, Thy summer’s play My thoughtless hand Has brushed away. Am not I A fly like thee? Or art not thou A man like me?\n"
     ]
    },
    {
     "name": "stdout",
     "output_type": "stream",
     "text": [
      "or BRUSHED thy\n",
      "not Little thou\n",
      "me? SUMMER’S thee?\n",
      "like THOUGHTLESS play\n",
      "i a not\n",
      "hand a my\n",
      "fly am man\n"
     ]
    }
   ],
   "source": [
    "user_input = input(\"Enter a saying or poem: \")\n",
    "words_list = user_input.split()\n",
    " \n",
    "for idx in range(len(words_list)):\n",
    "    if len(words_list[idx]) < 4:\n",
    "        words_list[idx] = words_list[idx].lower()\n",
    "        index += 1\n",
    "    elif len(words_list[idx]) > 6:\n",
    "        words_list[idx] = words_list[idx].upper()\n",
    "        index += 1\n",
    "    else:\n",
    "        words_list[idx] = words_list[idx]\n",
    "        index += 1\n",
    "\n",
    "def word_mixer(words_new_list):\n",
    "    new_list = [] \n",
    "    words_new_list.sort()\n",
    "    if len(words_new_list) > 5:\n",
    "        while len(words_new_list) > 5:\n",
    "            new_list.append(words_new_list.pop(-5))\n",
    "            new_list.append(words_new_list.pop(0))\n",
    "            new_list.append(words_new_list.pop())\n",
    "            print(\" \".join(new_list))\n",
    "            new_list=[]\n",
    "    else:\n",
    "        joined = \" \".join(words_new_list)\n",
    "        print(joined)\n",
    "\n",
    "word_mixer(words_list)"
   ]
  },
  {
   "cell_type": "code",
   "execution_count": 285,
   "id": "73ce6e65-ac8f-4bd4-94b9-32e69406b0d7",
   "metadata": {},
   "outputs": [
    {
     "name": "stdin",
     "output_type": "stream",
     "text": [
      "Enter a saying or poem:  there is no\n"
     ]
    },
    {
     "name": "stdout",
     "output_type": "stream",
     "text": [
      "is no there\n"
     ]
    }
   ],
   "source": [
    "user_input = input(\"Enter a saying or poem: \")\n",
    "words_list = user_input.split()\n",
    "\n",
    "for idx,word in enumerate(words_list): #creates an index variable each loops\n",
    "    if len(word) < 4:\n",
    "        words_list[idx] = words_list[idx].lower()\n",
    "        index += 1\n",
    "    elif len(word) > 6:\n",
    "        words_list[idx] = words_list[idx].upper()\n",
    "        index += 1\n",
    "    else:\n",
    "        words_list[idx] = words_list[idx]\n",
    "        index += 1\n",
    "         \n",
    "def word_mixer(words_new_list):\n",
    "    new_list = [] \n",
    "    words_new_list.sort()\n",
    "    if len(words_new_list) > 5:\n",
    "        while len(words_new_list) > 5:\n",
    "            new_list.append(words_new_list.pop(-5))\n",
    "            new_list.append(words_new_list.pop(0))\n",
    "            new_list.append(words_new_list.pop())\n",
    "            print(\" \".join(new_list))\n",
    "            new_list=[]\n",
    "    else:\n",
    "        joined = \" \".join(words_new_list)\n",
    "        print(joined)\n",
    "        \n",
    "word_mixer(words_list)"
   ]
  },
  {
   "cell_type": "code",
   "execution_count": 286,
   "id": "709df5c5-216f-4e03-bb50-57ff0cbf2d28",
   "metadata": {},
   "outputs": [
    {
     "name": "stdin",
     "output_type": "stream",
     "text": [
      "please input your wishes:  Little fly, Thy summer’s play My thoughtless hand Has brushed away. Am not I A fly like thee? Or art not thou A man like me?\n"
     ]
    },
    {
     "name": "stdout",
     "output_type": "stream",
     "text": [
      "['Little', 'fly,', 'Thy', 'summer’s', 'play', 'My', 'thoughtless', 'hand', 'Has', 'brushed', 'away.', 'Am', 'not', 'I', 'A', 'fly', 'like', 'thee?', 'Or', 'art', 'not', 'thou', 'A', 'man', 'like', 'me?']\n",
      "['Little', 'Fly,', 'THY', 'summer’s', 'Play', 'MY', 'thoughtless', 'Hand', 'HAS', 'brushed', 'Away.', 'AM', 'NOT', 'I', 'A', 'FLY', 'Like', 'Thee?', 'OR', 'ART', 'NOT', 'Thou', 'A', 'MAN', 'Like', 'ME?']\n",
      "['Little', 'Fly,', 'THY', 'summer’s', 'Play', 'MY', 'thoughtless', 'Hand', 'HAS', 'brushed', 'Away.', 'AM', 'NOT', 'I', 'A', 'FLY', 'Like', 'Thee?', 'OR', 'ART', 'NOT', 'A', 'MAN', 'Like', 'ME?']\n",
      "['Fly,', 'THY', 'summer’s', 'Play', 'MY', 'thoughtless', 'Hand', 'HAS', 'brushed', 'Away.', 'AM', 'NOT', 'I', 'A', 'FLY', 'Like', 'Thee?', 'OR', 'ART', 'NOT', 'A', 'MAN', 'Like', 'ME?']\n"
     ]
    }
   ],
   "source": [
    "#instructors code\n",
    "\n",
    "wishes = input(\"please input your wishes: \")\n",
    "words_after_split = wishes.split()\n",
    "print(words_after_split)\n",
    "#len(words_after_split)\n",
    "## iteration index by index \n",
    "#index =1\n",
    "## range (length of words from the words after split )\n",
    "## the iteration will go in for 14 times for 14 words \n",
    "## each word is testted for >7 or < 3 \n",
    "for index in range(len(words_after_split)):\n",
    "    #first word = hi , first index = hi \n",
    "    if len(words_after_split[index])  <=3:\n",
    "         words_after_split[index] = words_after_split[index].upper()\n",
    "    elif len(words_after_split[index])  >=7:\n",
    "        words_after_split[index] = words_after_split[index].lower()\n",
    "    else:\n",
    "        words_after_split[index] = words_after_split[index].title()\n",
    "#hi how are you in Singapore admist this phase2 please take care God bless you\n",
    "#HI HOW ARE YOU IN Admist singapore This Phase2 Please Take Care GOD Bless YOU\n",
    "print(words_after_split)\n",
    "words_after_split.pop(-5)\n",
    "print(words_after_split)\n",
    "words_after_split.pop(0)\n",
    "print(words_after_split)"
   ]
  }
 ],
 "metadata": {
  "kernelspec": {
   "display_name": "Python 3",
   "language": "python",
   "name": "python3"
  },
  "language_info": {
   "codemirror_mode": {
    "name": "ipython",
    "version": 3
   },
   "file_extension": ".py",
   "mimetype": "text/x-python",
   "name": "python",
   "nbconvert_exporter": "python",
   "pygments_lexer": "ipython3",
   "version": "3.7.10"
  }
 },
 "nbformat": 4,
 "nbformat_minor": 5
}
